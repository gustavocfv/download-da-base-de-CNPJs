{
 "cells": [
  {
   "cell_type": "code",
   "execution_count": 1,
   "metadata": {},
   "outputs": [],
   "source": [
    "import requests\n",
    "from requests.exceptions import HTTPError\n",
    "import re\n",
    "from bs4 import BeautifulSoup\n",
    "import os\n",
    "from time import time\n",
    "from multiprocessing.pool import ThreadPool"
   ]
  },
  {
   "cell_type": "code",
   "execution_count": 2,
   "metadata": {},
   "outputs": [],
   "source": [
    "r = requests.get('https://www.gov.br/receitafederal/pt-br/assuntos/orientacao-tributaria/cadastros/consultas/dados-publicos-cnpj')"
   ]
  },
  {
   "cell_type": "code",
   "execution_count": 3,
   "metadata": {},
   "outputs": [],
   "source": [
    "def download_html(url, numero_tentativas=2):\n",
    "    print(\"Realizando o download da página:\", url)\n",
    "    try:\n",
    "        req = requests.get(url)\n",
    "        if req.status_code != 200:\n",
    "            if numero_tentativas > 0:\n",
    "                print(\"Não foi possível realizar o download. Erro:\", req.status_code)\n",
    "                print(\"\\nRealizando nova tentativa:\")\n",
    "                return download_html(url, numero_tentativas - 1)\n",
    "            else:\n",
    "                print(\"Número de tentativas excedidas. Erro: {}\".format(req.status_code))\n",
    "                html = None\n",
    "                return html\n",
    "        html = req.text\n",
    "        return html\n",
    "    except ConnectionError as e:\n",
    "        print(\"Erro no download:\", e)\n",
    "        html = None"
   ]
  },
  {
   "cell_type": "code",
   "execution_count": 4,
   "metadata": {},
   "outputs": [
    {
     "name": "stdout",
     "output_type": "stream",
     "text": [
      "Realizando o download da página: https://www.gov.br/receitafederal/pt-br/assuntos/orientacao-tributaria/cadastros/consultas/dados-publicos-cnpj\n"
     ]
    }
   ],
   "source": [
    "html = download_html('https://www.gov.br/receitafederal/pt-br/assuntos/orientacao-tributaria/cadastros/consultas/dados-publicos-cnpj')"
   ]
  },
  {
   "cell_type": "code",
   "execution_count": 5,
   "metadata": {},
   "outputs": [],
   "source": [
    "bs = BeautifulSoup(html, \"html.parser\")"
   ]
  },
  {
   "cell_type": "code",
   "execution_count": 6,
   "metadata": {},
   "outputs": [],
   "source": [
    "lista_de_links = bs.body.find_all(\"a\", class_=\"external-link\")"
   ]
  },
  {
   "cell_type": "code",
   "execution_count": 7,
   "metadata": {},
   "outputs": [
    {
     "data": {
      "text/plain": [
       "[<a class=\"external-link\" data-tippreview-enabled=\"true\" data-tippreview-image=\"\" data-tippreview-title=\"\" href=\"http://200.152.38.155/CNPJ/K3241.K03200Y0.D10612.EMPRECSV.zip\" target=\"_self\" title=\"\">Dados Abertos CNPJ EMPRESA 01</a>,\n",
       " <a class=\"external-link\" data-tippreview-enabled=\"true\" data-tippreview-image=\"\" data-tippreview-title=\"\" href=\"http://200.152.38.155/CNPJ/K3241.K03200Y1.D10612.EMPRECSV.zip\" target=\"_self\" title=\"\"><span>Dados Abertos CNPJ</span> EMPRESA 02</a>,\n",
       " <a class=\"external-link\" data-tippreview-enabled=\"true\" data-tippreview-image=\"\" data-tippreview-title=\"\" href=\"http://200.152.38.155/CNPJ/K3241.K03200Y2.D10612.EMPRECSV.zip\" target=\"_self\" title=\"\"><span>Dados Abertos CNPJ</span> EMPRESA 03 </a>,\n",
       " <a class=\"external-link\" data-tippreview-enabled=\"true\" data-tippreview-image=\"\" data-tippreview-title=\"\" href=\"http://200.152.38.155/CNPJ/K3241.K03200Y3.D10612.EMPRECSV.zip\" target=\"_self\" title=\"\"><span>Dados Abertos CNPJ</span> EMPRESA 04</a>,\n",
       " <a class=\"external-link\" data-tippreview-enabled=\"true\" data-tippreview-image=\"\" data-tippreview-title=\"\" href=\"http://200.152.38.155/CNPJ/K3241.K03200Y4.D10612.EMPRECSV.zip\" target=\"_self\" title=\"\"><span>Dados Abertos CNPJ</span> EMPRESA 05</a>,\n",
       " <a class=\"external-link\" data-tippreview-enabled=\"true\" data-tippreview-image=\"\" data-tippreview-title=\"\" href=\"http://200.152.38.155/CNPJ/K3241.K03200Y5.D10612.EMPRECSV.zip\" target=\"_self\" title=\"\"><span>Dados Abertos CNPJ</span> EMPRESA 06</a>,\n",
       " <a class=\"external-link\" data-tippreview-enabled=\"true\" data-tippreview-image=\"\" data-tippreview-title=\"\" href=\"http://200.152.38.155/CNPJ/K3241.K03200Y6.D10612.EMPRECSV.zip\" target=\"_self\" title=\"\"><span>Dados Abertos CNPJ</span> EMPRESA 07 </a>,\n",
       " <a class=\"external-link\" data-tippreview-enabled=\"true\" data-tippreview-image=\"\" data-tippreview-title=\"\" href=\"http://200.152.38.155/CNPJ/K3241.K03200Y7.D10612.EMPRECSV.zip\" target=\"_self\" title=\"\"><span>Dados Abertos CNPJ</span> EMPRESA 08</a>,\n",
       " <a class=\"external-link\" data-tippreview-enabled=\"true\" data-tippreview-image=\"\" data-tippreview-title=\"\" href=\"http://200.152.38.155/CNPJ/K3241.K03200Y8.D10612.EMPRECSV.zip\" target=\"_self\" title=\"\"><span>Dados Abertos CNPJ</span> EMPRESA 09</a>,\n",
       " <a class=\"external-link\" data-tippreview-enabled=\"true\" data-tippreview-image=\"\" data-tippreview-title=\"\" href=\"http://200.152.38.155/CNPJ/K3241.K03200Y9.D10612.EMPRECSV.zip\" target=\"_self\" title=\"\"><span>Dados Abertos CNPJ</span> EMPRESA 10</a>,\n",
       " <a class=\"external-link\" data-tippreview-enabled=\"true\" data-tippreview-image=\"\" data-tippreview-title=\"\" href=\"http://200.152.38.155/CNPJ/K3241.K03200Y0.D10612.ESTABELE.zip\" target=\"_self\" title=\"\"><span>Dados Abertos CNPJ</span> ESTABELECIMENTO 01</a>,\n",
       " <a class=\"external-link\" data-tippreview-enabled=\"true\" data-tippreview-image=\"\" data-tippreview-title=\"\" href=\"http://200.152.38.155/CNPJ/K3241.K03200Y1.D10612.ESTABELE.zip\" target=\"_self\" title=\"\">Dados Abertos CNPJ ESTABELECIMENTO 02</a>,\n",
       " <a class=\"external-link\" data-tippreview-enabled=\"true\" data-tippreview-image=\"\" data-tippreview-title=\"\" href=\"http://200.152.38.155/CNPJ/K3241.K03200Y2.D10612.ESTABELE.zip\" target=\"_self\" title=\"\">Dados Abertos CNPJ ESTABELECIMENTO 03</a>,\n",
       " <a class=\"external-link\" data-tippreview-enabled=\"true\" data-tippreview-image=\"\" data-tippreview-title=\"\" href=\"http://200.152.38.155/CNPJ/K3241.K03200Y3.D10612.ESTABELE.zip\" target=\"_self\" title=\"\">Dados Abertos CNPJ ESTABELECIMENTO 04</a>,\n",
       " <a class=\"external-link\" data-tippreview-enabled=\"true\" data-tippreview-image=\"\" data-tippreview-title=\"\" href=\"http://200.152.38.155/CNPJ/K3241.K03200Y4.D10612.ESTABELE.zip\" target=\"_self\" title=\"\">Dados Abertos CNPJ ESTABELECIMENTO 05</a>,\n",
       " <a class=\"external-link\" data-tippreview-enabled=\"true\" data-tippreview-image=\"\" data-tippreview-title=\"\" href=\"http://200.152.38.155/CNPJ/K3241.K03200Y5.D10612.ESTABELE.zip\" target=\"_self\" title=\"\">Dados Abertos CNPJ ESTABELECIMENTO 06</a>,\n",
       " <a class=\"external-link\" data-tippreview-enabled=\"true\" data-tippreview-image=\"\" data-tippreview-title=\"\" href=\"http://200.152.38.155/CNPJ/K3241.K03200Y6.D10612.ESTABELE.zip\" target=\"_self\" title=\"\">Dados Abertos CNPJ ESTABELECIMENTO 07</a>,\n",
       " <a class=\"external-link\" data-tippreview-enabled=\"true\" data-tippreview-image=\"\" data-tippreview-title=\"\" href=\"http://200.152.38.155/CNPJ/K3241.K03200Y7.D10612.ESTABELE.zip\" target=\"_self\" title=\"\">Dados Abertos CNPJ ESTABELECIMENTO 08</a>,\n",
       " <a class=\"external-link\" data-tippreview-enabled=\"true\" data-tippreview-image=\"\" data-tippreview-title=\"\" href=\"http://200.152.38.155/CNPJ/K3241.K03200Y8.D10612.ESTABELE.zip\" target=\"_self\" title=\"\">Dados Abertos CNPJ ESTABELECIMENTO 09</a>,\n",
       " <a class=\"external-link\" data-tippreview-enabled=\"true\" data-tippreview-image=\"\" data-tippreview-title=\"\" href=\"http://200.152.38.155/CNPJ/K3241.K03200Y9.D10612.ESTABELE.zip\" target=\"_self\" title=\"\">Dados Abertos CNPJ ESTABELECIMENTO 10</a>,\n",
       " <a class=\"external-link\" data-tippreview-enabled=\"true\" data-tippreview-image=\"\" data-tippreview-title=\"\" href=\"http://200.152.38.155/CNPJ/K3241.K03200Y0.D10612.SOCIOCSV.zip\" target=\"_self\" title=\"\">Dados Abertos CNPJ SÓCIO 01</a>,\n",
       " <a class=\"external-link\" data-tippreview-enabled=\"true\" data-tippreview-image=\"\" data-tippreview-title=\"\" href=\"http://200.152.38.155/CNPJ/K3241.K03200Y1.D10612.SOCIOCSV.zip\" target=\"_self\" title=\"\">Dados Abertos CNPJ SÓCIO 02</a>,\n",
       " <a class=\"external-link\" data-tippreview-enabled=\"true\" data-tippreview-image=\"\" data-tippreview-title=\"\" href=\"http://200.152.38.155/CNPJ/K3241.K03200Y2.D10612.SOCIOCSV.zip\" target=\"_self\" title=\"\">Dados Abertos CNPJ SÓCIO 03</a>,\n",
       " <a class=\"external-link\" data-tippreview-enabled=\"true\" data-tippreview-image=\"\" data-tippreview-title=\"\" href=\"http://200.152.38.155/CNPJ/K3241.K03200Y3.D10612.SOCIOCSV.zip\" target=\"_self\" title=\"\">Dados Abertos CNPJ SÓCIO 04</a>,\n",
       " <a class=\"external-link\" data-tippreview-enabled=\"true\" data-tippreview-image=\"\" data-tippreview-title=\"\" href=\"http://200.152.38.155/CNPJ/K3241.K03200Y4.D10612.SOCIOCSV.zip\" target=\"_self\" title=\"\">Dados Abertos CNPJ SÓCIO 05</a>,\n",
       " <a class=\"external-link\" data-tippreview-enabled=\"true\" data-tippreview-image=\"\" data-tippreview-title=\"\" href=\"http://200.152.38.155/CNPJ/K3241.K03200Y5.D10612.SOCIOCSV.zip\" target=\"_self\" title=\"\">Dados Abertos CNPJ SÓCIO 06</a>,\n",
       " <a class=\"external-link\" data-tippreview-enabled=\"true\" data-tippreview-image=\"\" data-tippreview-title=\"\" href=\"http://200.152.38.155/CNPJ/K3241.K03200Y6.D10612.SOCIOCSV.zip\" target=\"_self\" title=\"\">Dados Abertos CNPJ SÓCIO 07</a>,\n",
       " <a class=\"external-link\" data-tippreview-enabled=\"true\" data-tippreview-image=\"\" data-tippreview-title=\"\" href=\"http://200.152.38.155/CNPJ/K3241.K03200Y7.D10612.SOCIOCSV.zip\" target=\"_self\" title=\"\">Dados Abertos CNPJ SÓCIO 08</a>,\n",
       " <a class=\"external-link\" data-tippreview-enabled=\"true\" data-tippreview-image=\"\" data-tippreview-title=\"\" href=\"http://200.152.38.155/CNPJ/K3241.K03200Y8.D10612.SOCIOCSV.zip\" target=\"_self\" title=\"\">Dados Abertos CNPJ SÓCIO 09</a>,\n",
       " <a class=\"external-link\" data-tippreview-enabled=\"true\" data-tippreview-image=\"\" data-tippreview-title=\"\" href=\"http://200.152.38.155/CNPJ/K3241.K03200Y9.D10612.SOCIOCSV.zip\" target=\"_self\" title=\"\">Dados Abertos CNPJ SÓCIO 10</a>,\n",
       " <a class=\"external-link\" data-tippreview-enabled=\"true\" data-tippreview-image=\"\" data-tippreview-title=\"\" href=\"http://200.152.38.155/CNPJ/F.K03200$W.SIMPLES.CSV.D10612.zip\" target=\"_self\" title=\"\">Informações sobre o Simples Nacional/MEI</a>,\n",
       " <a class=\"external-link\" data-tippreview-enabled=\"true\" data-tippreview-image=\"\" data-tippreview-title=\"\" href=\"http://200.152.38.155/CNPJ/F.K03200$Z.D10612.CNAECSV.zip\" target=\"_self\" title=\"\">Tabela de atributo CNAE</a>,\n",
       " <a class=\"external-link\" data-tippreview-enabled=\"true\" data-tippreview-image=\"\" data-tippreview-title=\"\" href=\"http://200.152.38.155/CNPJ/F.K03200$Z.D10612.MOTICSV.zip\" target=\"_self\" title=\"\">Tabela de motivo da situação cadastral</a>,\n",
       " <a class=\"external-link\" data-tippreview-enabled=\"true\" data-tippreview-image=\"\" data-tippreview-title=\"\" href=\"http://200.152.38.155/CNPJ/F.K03200$Z.D10612.MUNICCSV.zip\" target=\"_self\" title=\"\">Tabela de atributo Município</a>,\n",
       " <a class=\"external-link\" data-tippreview-enabled=\"true\" data-tippreview-image=\"\" data-tippreview-title=\"\" href=\"http://200.152.38.155/CNPJ/F.K03200$Z.D10612.NATJUCSV.zip\" target=\"_self\" title=\"\">Tabela de atributo Natureza Jurídica</a>,\n",
       " <a class=\"external-link\" data-tippreview-enabled=\"true\" data-tippreview-image=\"\" data-tippreview-title=\"\" href=\"http://200.152.38.155/CNPJ/F.K03200$Z.D10612.PAISCSV.zip\" target=\"_self\" title=\"\">Tabela de atributo País</a>,\n",
       " <a class=\"external-link\" data-tippreview-enabled=\"true\" data-tippreview-image=\"\" data-tippreview-title=\"\" href=\"http://200.152.38.155/CNPJ/F.K03200$Z.D10612.QUALSCSV.zip\" target=\"_self\" title=\"\">Tabela de atributo qualificação dos sócios</a>]"
      ]
     },
     "execution_count": 7,
     "metadata": {},
     "output_type": "execute_result"
    }
   ],
   "source": [
    "lista_de_links"
   ]
  },
  {
   "cell_type": "code",
   "execution_count": 8,
   "metadata": {},
   "outputs": [
    {
     "name": "stdout",
     "output_type": "stream",
     "text": [
      "--> Dados Abertos CNPJ EMPRESA 01\n",
      "--> Dados Abertos CNPJ EMPRESA 02\n",
      "--> Dados Abertos CNPJ EMPRESA 03 \n",
      "--> Dados Abertos CNPJ EMPRESA 04\n",
      "--> Dados Abertos CNPJ EMPRESA 05\n",
      "--> Dados Abertos CNPJ EMPRESA 06\n",
      "--> Dados Abertos CNPJ EMPRESA 07 \n",
      "--> Dados Abertos CNPJ EMPRESA 08\n",
      "--> Dados Abertos CNPJ EMPRESA 09\n",
      "--> Dados Abertos CNPJ EMPRESA 10\n",
      "--> Dados Abertos CNPJ ESTABELECIMENTO 01\n",
      "--> Dados Abertos CNPJ ESTABELECIMENTO 02\n",
      "--> Dados Abertos CNPJ ESTABELECIMENTO 03\n",
      "--> Dados Abertos CNPJ ESTABELECIMENTO 04\n",
      "--> Dados Abertos CNPJ ESTABELECIMENTO 05\n",
      "--> Dados Abertos CNPJ ESTABELECIMENTO 06\n",
      "--> Dados Abertos CNPJ ESTABELECIMENTO 07\n",
      "--> Dados Abertos CNPJ ESTABELECIMENTO 08\n",
      "--> Dados Abertos CNPJ ESTABELECIMENTO 09\n",
      "--> Dados Abertos CNPJ ESTABELECIMENTO 10\n",
      "--> Dados Abertos CNPJ SÓCIO 01\n",
      "--> Dados Abertos CNPJ SÓCIO 02\n",
      "--> Dados Abertos CNPJ SÓCIO 03\n",
      "--> Dados Abertos CNPJ SÓCIO 04\n",
      "--> Dados Abertos CNPJ SÓCIO 05\n",
      "--> Dados Abertos CNPJ SÓCIO 06\n",
      "--> Dados Abertos CNPJ SÓCIO 07\n",
      "--> Dados Abertos CNPJ SÓCIO 08\n",
      "--> Dados Abertos CNPJ SÓCIO 09\n",
      "--> Dados Abertos CNPJ SÓCIO 10\n",
      "--> Informações sobre o Simples Nacional/MEI\n",
      "--> Tabela de atributo CNAE\n",
      "--> Tabela de motivo da situação cadastral\n",
      "--> Tabela de atributo Município\n",
      "--> Tabela de atributo Natureza Jurídica\n",
      "--> Tabela de atributo País\n",
      "--> Tabela de atributo qualificação dos sócios\n"
     ]
    }
   ],
   "source": [
    "for item in lista_de_links:\n",
    "    print(\"-->\", item.text)"
   ]
  },
  {
   "cell_type": "code",
   "execution_count": 9,
   "metadata": {},
   "outputs": [
    {
     "name": "stdout",
     "output_type": "stream",
     "text": [
      "http://200.152.38.155/CNPJ/K3241.K03200Y0.D10612.EMPRECSV.zip\n",
      "http://200.152.38.155/CNPJ/K3241.K03200Y1.D10612.EMPRECSV.zip\n",
      "http://200.152.38.155/CNPJ/K3241.K03200Y2.D10612.EMPRECSV.zip\n",
      "http://200.152.38.155/CNPJ/K3241.K03200Y3.D10612.EMPRECSV.zip\n",
      "http://200.152.38.155/CNPJ/K3241.K03200Y4.D10612.EMPRECSV.zip\n",
      "http://200.152.38.155/CNPJ/K3241.K03200Y5.D10612.EMPRECSV.zip\n",
      "http://200.152.38.155/CNPJ/K3241.K03200Y6.D10612.EMPRECSV.zip\n",
      "http://200.152.38.155/CNPJ/K3241.K03200Y7.D10612.EMPRECSV.zip\n",
      "http://200.152.38.155/CNPJ/K3241.K03200Y8.D10612.EMPRECSV.zip\n",
      "http://200.152.38.155/CNPJ/K3241.K03200Y9.D10612.EMPRECSV.zip\n",
      "http://200.152.38.155/CNPJ/K3241.K03200Y0.D10612.ESTABELE.zip\n",
      "http://200.152.38.155/CNPJ/K3241.K03200Y1.D10612.ESTABELE.zip\n",
      "http://200.152.38.155/CNPJ/K3241.K03200Y2.D10612.ESTABELE.zip\n",
      "http://200.152.38.155/CNPJ/K3241.K03200Y3.D10612.ESTABELE.zip\n",
      "http://200.152.38.155/CNPJ/K3241.K03200Y4.D10612.ESTABELE.zip\n",
      "http://200.152.38.155/CNPJ/K3241.K03200Y5.D10612.ESTABELE.zip\n",
      "http://200.152.38.155/CNPJ/K3241.K03200Y6.D10612.ESTABELE.zip\n",
      "http://200.152.38.155/CNPJ/K3241.K03200Y7.D10612.ESTABELE.zip\n",
      "http://200.152.38.155/CNPJ/K3241.K03200Y8.D10612.ESTABELE.zip\n",
      "http://200.152.38.155/CNPJ/K3241.K03200Y9.D10612.ESTABELE.zip\n",
      "http://200.152.38.155/CNPJ/K3241.K03200Y0.D10612.SOCIOCSV.zip\n",
      "http://200.152.38.155/CNPJ/K3241.K03200Y1.D10612.SOCIOCSV.zip\n",
      "http://200.152.38.155/CNPJ/K3241.K03200Y2.D10612.SOCIOCSV.zip\n",
      "http://200.152.38.155/CNPJ/K3241.K03200Y3.D10612.SOCIOCSV.zip\n",
      "http://200.152.38.155/CNPJ/K3241.K03200Y4.D10612.SOCIOCSV.zip\n",
      "http://200.152.38.155/CNPJ/K3241.K03200Y5.D10612.SOCIOCSV.zip\n",
      "http://200.152.38.155/CNPJ/K3241.K03200Y6.D10612.SOCIOCSV.zip\n",
      "http://200.152.38.155/CNPJ/K3241.K03200Y7.D10612.SOCIOCSV.zip\n",
      "http://200.152.38.155/CNPJ/K3241.K03200Y8.D10612.SOCIOCSV.zip\n",
      "http://200.152.38.155/CNPJ/K3241.K03200Y9.D10612.SOCIOCSV.zip\n",
      "http://200.152.38.155/CNPJ/F.K03200$W.SIMPLES.CSV.D10612.zip\n",
      "http://200.152.38.155/CNPJ/F.K03200$Z.D10612.CNAECSV.zip\n",
      "http://200.152.38.155/CNPJ/F.K03200$Z.D10612.MOTICSV.zip\n",
      "http://200.152.38.155/CNPJ/F.K03200$Z.D10612.MUNICCSV.zip\n",
      "http://200.152.38.155/CNPJ/F.K03200$Z.D10612.NATJUCSV.zip\n",
      "http://200.152.38.155/CNPJ/F.K03200$Z.D10612.PAISCSV.zip\n",
      "http://200.152.38.155/CNPJ/F.K03200$Z.D10612.QUALSCSV.zip\n"
     ]
    }
   ],
   "source": [
    "lista = []\n",
    "for link in lista_de_links:\n",
    "    lista.append(link.get(\"href\"))\n",
    "    print(link.get(\"href\"))"
   ]
  },
  {
   "cell_type": "code",
   "execution_count": 10,
   "metadata": {},
   "outputs": [
    {
     "data": {
      "text/plain": [
       "['http://200.152.38.155/CNPJ/K3241.K03200Y0.D10612.EMPRECSV.zip',\n",
       " 'http://200.152.38.155/CNPJ/K3241.K03200Y1.D10612.EMPRECSV.zip',\n",
       " 'http://200.152.38.155/CNPJ/K3241.K03200Y2.D10612.EMPRECSV.zip',\n",
       " 'http://200.152.38.155/CNPJ/K3241.K03200Y3.D10612.EMPRECSV.zip',\n",
       " 'http://200.152.38.155/CNPJ/K3241.K03200Y4.D10612.EMPRECSV.zip',\n",
       " 'http://200.152.38.155/CNPJ/K3241.K03200Y5.D10612.EMPRECSV.zip',\n",
       " 'http://200.152.38.155/CNPJ/K3241.K03200Y6.D10612.EMPRECSV.zip',\n",
       " 'http://200.152.38.155/CNPJ/K3241.K03200Y7.D10612.EMPRECSV.zip',\n",
       " 'http://200.152.38.155/CNPJ/K3241.K03200Y8.D10612.EMPRECSV.zip',\n",
       " 'http://200.152.38.155/CNPJ/K3241.K03200Y9.D10612.EMPRECSV.zip',\n",
       " 'http://200.152.38.155/CNPJ/K3241.K03200Y0.D10612.ESTABELE.zip',\n",
       " 'http://200.152.38.155/CNPJ/K3241.K03200Y1.D10612.ESTABELE.zip',\n",
       " 'http://200.152.38.155/CNPJ/K3241.K03200Y2.D10612.ESTABELE.zip',\n",
       " 'http://200.152.38.155/CNPJ/K3241.K03200Y3.D10612.ESTABELE.zip',\n",
       " 'http://200.152.38.155/CNPJ/K3241.K03200Y4.D10612.ESTABELE.zip',\n",
       " 'http://200.152.38.155/CNPJ/K3241.K03200Y5.D10612.ESTABELE.zip',\n",
       " 'http://200.152.38.155/CNPJ/K3241.K03200Y6.D10612.ESTABELE.zip',\n",
       " 'http://200.152.38.155/CNPJ/K3241.K03200Y7.D10612.ESTABELE.zip',\n",
       " 'http://200.152.38.155/CNPJ/K3241.K03200Y8.D10612.ESTABELE.zip',\n",
       " 'http://200.152.38.155/CNPJ/K3241.K03200Y9.D10612.ESTABELE.zip',\n",
       " 'http://200.152.38.155/CNPJ/K3241.K03200Y0.D10612.SOCIOCSV.zip',\n",
       " 'http://200.152.38.155/CNPJ/K3241.K03200Y1.D10612.SOCIOCSV.zip',\n",
       " 'http://200.152.38.155/CNPJ/K3241.K03200Y2.D10612.SOCIOCSV.zip',\n",
       " 'http://200.152.38.155/CNPJ/K3241.K03200Y3.D10612.SOCIOCSV.zip',\n",
       " 'http://200.152.38.155/CNPJ/K3241.K03200Y4.D10612.SOCIOCSV.zip',\n",
       " 'http://200.152.38.155/CNPJ/K3241.K03200Y5.D10612.SOCIOCSV.zip',\n",
       " 'http://200.152.38.155/CNPJ/K3241.K03200Y6.D10612.SOCIOCSV.zip',\n",
       " 'http://200.152.38.155/CNPJ/K3241.K03200Y7.D10612.SOCIOCSV.zip',\n",
       " 'http://200.152.38.155/CNPJ/K3241.K03200Y8.D10612.SOCIOCSV.zip',\n",
       " 'http://200.152.38.155/CNPJ/K3241.K03200Y9.D10612.SOCIOCSV.zip',\n",
       " 'http://200.152.38.155/CNPJ/F.K03200$W.SIMPLES.CSV.D10612.zip',\n",
       " 'http://200.152.38.155/CNPJ/F.K03200$Z.D10612.CNAECSV.zip',\n",
       " 'http://200.152.38.155/CNPJ/F.K03200$Z.D10612.MOTICSV.zip',\n",
       " 'http://200.152.38.155/CNPJ/F.K03200$Z.D10612.MUNICCSV.zip',\n",
       " 'http://200.152.38.155/CNPJ/F.K03200$Z.D10612.NATJUCSV.zip',\n",
       " 'http://200.152.38.155/CNPJ/F.K03200$Z.D10612.PAISCSV.zip',\n",
       " 'http://200.152.38.155/CNPJ/F.K03200$Z.D10612.QUALSCSV.zip']"
      ]
     },
     "execution_count": 10,
     "metadata": {},
     "output_type": "execute_result"
    }
   ],
   "source": [
    "lista"
   ]
  },
  {
   "cell_type": "code",
   "execution_count": 11,
   "metadata": {},
   "outputs": [],
   "source": [
    "def download_url(url, chunk_size=1024):\n",
    "    path=r'C:\\Users\\gusta\\Documents\\IPN\\Arquivos CNPJ'\n",
    "    file = url.split('/')[-1]\n",
    "    save_path = path + '\\\\' + file\n",
    "    r = requests.get(url, stream=True)\n",
    "    with open(save_path, 'wb') as fd:\n",
    "        for chunk in r.iter_content(chunk_size=chunk_size):\n",
    "            fd.write(chunk)"
   ]
  },
  {
   "cell_type": "code",
   "execution_count": 12,
   "metadata": {},
   "outputs": [
    {
     "name": "stdout",
     "output_type": "stream",
     "text": [
      "Tempo total do download: 0.015577554702758789\n"
     ]
    }
   ],
   "source": [
    "start = time()\n",
    "\n",
    "ThreadPool().imap_unordered(download_url, lista)\n",
    "\n",
    "print(f\"Tempo total do download: {time() - start}\")"
   ]
  },
  {
   "cell_type": "code",
   "execution_count": null,
   "metadata": {},
   "outputs": [],
   "source": []
  },
  {
   "cell_type": "code",
   "execution_count": null,
   "metadata": {},
   "outputs": [],
   "source": []
  },
  {
   "cell_type": "code",
   "execution_count": null,
   "metadata": {},
   "outputs": [],
   "source": []
  },
  {
   "cell_type": "code",
   "execution_count": null,
   "metadata": {},
   "outputs": [],
   "source": []
  },
  {
   "cell_type": "code",
   "execution_count": null,
   "metadata": {},
   "outputs": [],
   "source": []
  },
  {
   "cell_type": "code",
   "execution_count": null,
   "metadata": {},
   "outputs": [],
   "source": []
  }
 ],
 "metadata": {
  "kernelspec": {
   "display_name": "Python 3",
   "language": "python",
   "name": "python3"
  },
  "language_info": {
   "codemirror_mode": {
    "name": "ipython",
    "version": 3
   },
   "file_extension": ".py",
   "mimetype": "text/x-python",
   "name": "python",
   "nbconvert_exporter": "python",
   "pygments_lexer": "ipython3",
   "version": "3.6.10"
  }
 },
 "nbformat": 4,
 "nbformat_minor": 4
}
