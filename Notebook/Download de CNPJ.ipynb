{
 "cells": [
  {
   "cell_type": "code",
   "execution_count": 1,
   "metadata": {},
   "outputs": [],
   "source": [
    "import requests\n",
    "from requests.exceptions import HTTPError\n",
    "import re\n",
    "from bs4 import BeautifulSoup\n",
    "import os\n",
    "import time\n",
    "#from multiprocessing.pool import ThreadPool\n",
    "import concurrent.futures"
   ]
  },
  {
   "cell_type": "code",
   "execution_count": 2,
   "metadata": {},
   "outputs": [],
   "source": [
    "r = requests.get('https://www.gov.br/receitafederal/pt-br/assuntos/orientacao-tributaria/cadastros/consultas/dados-publicos-cnpj')"
   ]
  },
  {
   "cell_type": "code",
   "execution_count": 3,
   "metadata": {},
   "outputs": [],
   "source": [
    "def download_html(url, timeout=10, numero_tentativas=2):\n",
    "    print(\"Realizando o download da página:\", url)\n",
    "    try:\n",
    "        req = requests.get(url, timeout=timeout)\n",
    "        if req.status_code != 200:\n",
    "            if numero_tentativas > 0:\n",
    "                print(\"Não foi possível realizar o download. Erro:\", req.status_code)\n",
    "                print(\"\\nRealizando nova tentativa:\")\n",
    "                return download_html(url, numero_tentativas - 1)\n",
    "            else:\n",
    "                print(\"Número de tentativas excedidas. Erro: {}\".format(req.status_code))\n",
    "                html = None\n",
    "                return html\n",
    "        html = req.text\n",
    "        return html\n",
    "    except ConnectionError as e:\n",
    "        print(\"Erro no download:\", e)\n",
    "        html = None"
   ]
  },
  {
   "cell_type": "code",
   "execution_count": 4,
   "metadata": {},
   "outputs": [
    {
     "name": "stdout",
     "output_type": "stream",
     "text": [
      "Realizando o download da página: https://www.gov.br/receitafederal/pt-br/assuntos/orientacao-tributaria/cadastros/consultas/dados-publicos-cnpj\n"
     ]
    }
   ],
   "source": [
    "html = download_html('https://www.gov.br/receitafederal/pt-br/assuntos/orientacao-tributaria/cadastros/consultas/dados-publicos-cnpj')"
   ]
  },
  {
   "cell_type": "code",
   "execution_count": 5,
   "metadata": {},
   "outputs": [],
   "source": [
    "bs = BeautifulSoup(html, \"html.parser\")"
   ]
  },
  {
   "cell_type": "code",
   "execution_count": 6,
   "metadata": {},
   "outputs": [],
   "source": [
    "lista_de_links = bs.body.find_all(\"a\", class_=\"external-link\")"
   ]
  },
  {
   "cell_type": "code",
   "execution_count": 7,
   "metadata": {},
   "outputs": [
    {
     "data": {
      "text/plain": [
       "[<a class=\"external-link\" data-tippreview-enabled=\"true\" data-tippreview-image=\"\" data-tippreview-title=\"\" href=\"http://200.152.38.155/CNPJ/K3241.K03200Y0.D11113.EMPRECSV.zip\" target=\"_self\" title=\"\">Dados Abertos CNPJ EMPRESA 01</a>,\n",
       " <a class=\"external-link\" data-tippreview-enabled=\"true\" data-tippreview-image=\"\" data-tippreview-title=\"\" href=\"http://200.152.38.155/CNPJ/K3241.K03200Y1.D11113.EMPRECSV.zip\" target=\"_self\" title=\"\"><span>Dados Abertos CNPJ</span> EMPRESA 02</a>,\n",
       " <a class=\"external-link\" data-tippreview-enabled=\"true\" data-tippreview-image=\"\" data-tippreview-title=\"\" href=\"http://200.152.38.155/CNPJ/K3241.K03200Y2.D11113.EMPRECSV.zip\" target=\"_self\" title=\"\"><span>Dados Abertos CNPJ</span> EMPRESA 03 </a>,\n",
       " <a class=\"external-link\" data-tippreview-enabled=\"true\" data-tippreview-image=\"\" data-tippreview-title=\"\" href=\"http://200.152.38.155/CNPJ/K3241.K03200Y3.D11113.EMPRECSV.zip\" target=\"_self\" title=\"\"><span>Dados Abertos CNPJ</span> EMPRESA 04</a>,\n",
       " <a class=\"external-link\" data-tippreview-enabled=\"true\" data-tippreview-image=\"\" data-tippreview-title=\"\" href=\"http://200.152.38.155/CNPJ/K3241.K03200Y4.D11113.EMPRECSV.zip\" target=\"_self\" title=\"\"><span>Dados Abertos CNPJ</span> EMPRESA 05</a>,\n",
       " <a class=\"external-link\" data-tippreview-enabled=\"true\" data-tippreview-image=\"\" data-tippreview-title=\"\" href=\"http://200.152.38.155/CNPJ/K3241.K03200Y5.D11113.EMPRECSV.zip\" target=\"_self\" title=\"\"><span>Dados Abertos CNPJ</span> EMPRESA 06</a>,\n",
       " <a class=\"external-link\" data-tippreview-enabled=\"true\" data-tippreview-image=\"\" data-tippreview-title=\"\" href=\"http://200.152.38.155/CNPJ/K3241.K03200Y6.D11113.EMPRECSV.zip\" target=\"_self\" title=\"\"><span>Dados Abertos CNPJ</span> EMPRESA 07 </a>,\n",
       " <a class=\"external-link\" data-tippreview-enabled=\"true\" data-tippreview-image=\"\" data-tippreview-title=\"\" href=\"http://200.152.38.155/CNPJ/K3241.K03200Y7.D11113.EMPRECSV.zip\" target=\"_self\" title=\"\"><span>Dados Abertos CNPJ</span> EMPRESA 08</a>,\n",
       " <a class=\"external-link\" data-tippreview-enabled=\"true\" data-tippreview-image=\"\" data-tippreview-title=\"\" href=\"http://200.152.38.155/CNPJ/K3241.K03200Y8.D11113.EMPRECSV.zip\" target=\"_self\" title=\"\"><span>Dados Abertos CNPJ</span> EMPRESA 09</a>,\n",
       " <a class=\"external-link\" data-tippreview-enabled=\"true\" data-tippreview-image=\"\" data-tippreview-title=\"\" href=\"http://200.152.38.155/CNPJ/K3241.K03200Y9.D11113.EMPRECSV.zip\" target=\"_self\" title=\"\"><span>Dados Abertos CNPJ</span> EMPRESA 10</a>,\n",
       " <a class=\"external-link\" data-tippreview-enabled=\"true\" data-tippreview-image=\"\" data-tippreview-title=\"\" href=\"http://200.152.38.155/CNPJ/K3241.K03200Y0.D11113.ESTABELE.zip\" target=\"_self\" title=\"\"><span>Dados Abertos CNPJ</span> ESTABELECIMENTO 01</a>,\n",
       " <a class=\"external-link\" data-tippreview-enabled=\"true\" data-tippreview-image=\"\" data-tippreview-title=\"\" href=\"http://200.152.38.155/CNPJ/K3241.K03200Y1.D11113.ESTABELE.zip\" target=\"_self\" title=\"\">Dados Abertos CNPJ ESTABELECIMENTO 02</a>,\n",
       " <a class=\"external-link\" data-tippreview-enabled=\"true\" data-tippreview-image=\"\" data-tippreview-title=\"\" href=\"http://200.152.38.155/CNPJ/K3241.K03200Y2.D11113.ESTABELE.zip\" target=\"_self\" title=\"\">Dados Abertos CNPJ ESTABELECIMENTO 03</a>,\n",
       " <a class=\"external-link\" data-tippreview-enabled=\"true\" data-tippreview-image=\"\" data-tippreview-title=\"\" href=\"http://200.152.38.155/CNPJ/K3241.K03200Y3.D11113.ESTABELE.zip\" target=\"_self\" title=\"\">Dados Abertos CNPJ ESTABELECIMENTO 04</a>,\n",
       " <a class=\"external-link\" data-tippreview-enabled=\"true\" data-tippreview-image=\"\" data-tippreview-title=\"\" href=\"http://200.152.38.155/CNPJ/K3241.K03200Y4.D11113.ESTABELE.zip\" target=\"_self\" title=\"\">Dados Abertos CNPJ ESTABELECIMENTO 05</a>,\n",
       " <a class=\"external-link\" data-tippreview-enabled=\"true\" data-tippreview-image=\"\" data-tippreview-title=\"\" href=\"http://200.152.38.155/CNPJ/K3241.K03200Y5.D11113.ESTABELE.zip\" target=\"_self\" title=\"\">Dados Abertos CNPJ ESTABELECIMENTO 06</a>,\n",
       " <a class=\"external-link\" data-tippreview-enabled=\"true\" data-tippreview-image=\"\" data-tippreview-title=\"\" href=\"http://200.152.38.155/CNPJ/K3241.K03200Y6.D11113.ESTABELE.zip\" target=\"_self\" title=\"\">Dados Abertos CNPJ ESTABELECIMENTO 07</a>,\n",
       " <a class=\"external-link\" data-tippreview-enabled=\"true\" data-tippreview-image=\"\" data-tippreview-title=\"\" href=\"http://200.152.38.155/CNPJ/K3241.K03200Y7.D11113.ESTABELE.zip\" target=\"_self\" title=\"\">Dados Abertos CNPJ ESTABELECIMENTO 08</a>,\n",
       " <a class=\"external-link\" data-tippreview-enabled=\"true\" data-tippreview-image=\"\" data-tippreview-title=\"\" href=\"http://200.152.38.155/CNPJ/K3241.K03200Y8.D11113.ESTABELE.zip\" target=\"_self\" title=\"\">Dados Abertos CNPJ ESTABELECIMENTO 09</a>,\n",
       " <a class=\"external-link\" data-tippreview-enabled=\"true\" data-tippreview-image=\"\" data-tippreview-title=\"\" href=\"http://200.152.38.155/CNPJ/K3241.K03200Y9.D11113.ESTABELE.zip\" target=\"_self\" title=\"\">Dados Abertos CNPJ ESTABELECIMENTO 10</a>,\n",
       " <a class=\"external-link\" data-tippreview-enabled=\"true\" data-tippreview-image=\"\" data-tippreview-title=\"\" href=\"http://http//200.152.38.155/CNPJ/K3241.K03200Y0.D11113.SOCIOCSV.zip\" target=\"_self\" title=\"\">Dados Abertos CNPJ SÓCIO 01</a>,\n",
       " <a class=\"external-link\" data-tippreview-enabled=\"true\" data-tippreview-image=\"\" data-tippreview-title=\"\" href=\"http://http//200.152.38.155/CNPJ/K3241.K03200Y1.D11113.SOCIOCSV.zip\" target=\"_self\" title=\"\">Dados Abertos CNPJ SÓCIO 02</a>,\n",
       " <a class=\"external-link\" data-tippreview-enabled=\"true\" data-tippreview-image=\"\" data-tippreview-title=\"\" href=\"http://200.152.38.155/CNPJ/K3241.K03200Y2.D11113.SOCIOCSV.zip\" target=\"_self\" title=\"\">Dados Abertos CNPJ SÓCIO 03</a>,\n",
       " <a class=\"external-link\" data-tippreview-enabled=\"true\" data-tippreview-image=\"\" data-tippreview-title=\"\" href=\"http://200.152.38.155/CNPJ/K3241.K03200Y3.D11113.SOCIOCSV.zip\" target=\"_self\" title=\"\">Dados Abertos CNPJ SÓCIO 04</a>,\n",
       " <a class=\"external-link\" data-tippreview-enabled=\"true\" data-tippreview-image=\"\" data-tippreview-title=\"\" href=\"http://200.152.38.155/CNPJ/K3241.K03200Y4.D11113.SOCIOCSV.zip\" target=\"_self\" title=\"\">Dados Abertos CNPJ SÓCIO 05</a>,\n",
       " <a class=\"external-link\" data-tippreview-enabled=\"true\" data-tippreview-image=\"\" data-tippreview-title=\"\" href=\"http://200.152.38.155/CNPJ/K3241.K03200Y5.D11113.SOCIOCSV.zip\" target=\"_self\" title=\"\">Dados Abertos CNPJ SÓCIO 06</a>,\n",
       " <a class=\"external-link\" data-tippreview-enabled=\"true\" data-tippreview-image=\"\" data-tippreview-title=\"\" href=\"http://200.152.38.155/CNPJ/K3241.K03200Y6.D11113.SOCIOCSV.zip\" target=\"_self\" title=\"\">Dados Abertos CNPJ SÓCIO 07</a>,\n",
       " <a class=\"external-link\" data-tippreview-enabled=\"true\" data-tippreview-image=\"\" data-tippreview-title=\"\" href=\"http://200.152.38.155/CNPJ/K3241.K03200Y7.D11113.SOCIOCSV.zip\" target=\"_self\" title=\"\">Dados Abertos CNPJ SÓCIO 08</a>,\n",
       " <a class=\"external-link\" data-tippreview-enabled=\"true\" data-tippreview-image=\"\" data-tippreview-title=\"\" href=\"http://200.152.38.155/CNPJ/K3241.K03200Y8.D11113.SOCIOCSV.zip\" target=\"_self\" title=\"\">Dados Abertos CNPJ SÓCIO 09</a>,\n",
       " <a class=\"external-link\" data-tippreview-enabled=\"true\" data-tippreview-image=\"\" data-tippreview-title=\"\" href=\"http://200.152.38.155/CNPJ/K3241.K03200Y9.D11113.SOCIOCSV.zip\" target=\"_self\" title=\"\">Dados Abertos CNPJ SÓCIO 10</a>,\n",
       " <a class=\"external-link\" data-tippreview-enabled=\"true\" data-tippreview-image=\"\" data-tippreview-title=\"\" href=\"http://200.152.38.155/CNPJ/F.K03200$W.SIMPLES.CSV.D11113.zip\" target=\"_self\" title=\"\">Informações sobre o Simples Nacional/MEI</a>,\n",
       " <a class=\"external-link\" data-tippreview-enabled=\"true\" data-tippreview-image=\"\" data-tippreview-title=\"\" href=\"http://200.152.38.155/CNPJ/F.K03200$Z.D11113.CNAECSV.zip\" target=\"_self\" title=\"\">Tabela de atributo CNAE</a>,\n",
       " <a class=\"external-link\" data-tippreview-enabled=\"true\" data-tippreview-image=\"\" data-tippreview-title=\"\" href=\"http://200.152.38.155/CNPJ/F.K03200$Z.D11113.MOTICSV.zip\" target=\"_self\" title=\"\">Tabela de motivo da situação cadastral</a>,\n",
       " <a class=\"external-link\" data-tippreview-enabled=\"true\" data-tippreview-image=\"\" data-tippreview-title=\"\" href=\"http://200.152.38.155/CNPJ/F.K03200$Z.D11113.MUNICCSV.zip\" target=\"_self\" title=\"\">Tabela de atributo Município</a>,\n",
       " <a class=\"external-link\" data-tippreview-enabled=\"true\" data-tippreview-image=\"\" data-tippreview-title=\"\" href=\"http://200.152.38.155/CNPJ/F.K03200$Z.D11113.NATJUCSV.zip\" target=\"_self\" title=\"\">Tabela de atributo Natureza Jurídica</a>,\n",
       " <a class=\"external-link\" data-tippreview-enabled=\"true\" data-tippreview-image=\"\" data-tippreview-title=\"\" href=\"http://200.152.38.155/CNPJ/F.K03200$Z.D11113.PAISCSV.zip\" target=\"_self\" title=\"\">Tabela de atributo País</a>,\n",
       " <a class=\"external-link\" data-tippreview-enabled=\"true\" data-tippreview-image=\"\" data-tippreview-title=\"\" href=\"http://200.152.38.155/CNPJ/F.K03200$Z.D11113.QUALSCSV.zip\" target=\"_self\" title=\"\">Tabela de atributo qualificação dos sócios</a>]"
      ]
     },
     "execution_count": 7,
     "metadata": {},
     "output_type": "execute_result"
    }
   ],
   "source": [
    "lista_de_links"
   ]
  },
  {
   "cell_type": "code",
   "execution_count": 8,
   "metadata": {},
   "outputs": [
    {
     "name": "stdout",
     "output_type": "stream",
     "text": [
      "--> Dados Abertos CNPJ EMPRESA 01\n",
      "--> Dados Abertos CNPJ EMPRESA 02\n",
      "--> Dados Abertos CNPJ EMPRESA 03 \n",
      "--> Dados Abertos CNPJ EMPRESA 04\n",
      "--> Dados Abertos CNPJ EMPRESA 05\n",
      "--> Dados Abertos CNPJ EMPRESA 06\n",
      "--> Dados Abertos CNPJ EMPRESA 07 \n",
      "--> Dados Abertos CNPJ EMPRESA 08\n",
      "--> Dados Abertos CNPJ EMPRESA 09\n",
      "--> Dados Abertos CNPJ EMPRESA 10\n",
      "--> Dados Abertos CNPJ ESTABELECIMENTO 01\n",
      "--> Dados Abertos CNPJ ESTABELECIMENTO 02\n",
      "--> Dados Abertos CNPJ ESTABELECIMENTO 03\n",
      "--> Dados Abertos CNPJ ESTABELECIMENTO 04\n",
      "--> Dados Abertos CNPJ ESTABELECIMENTO 05\n",
      "--> Dados Abertos CNPJ ESTABELECIMENTO 06\n",
      "--> Dados Abertos CNPJ ESTABELECIMENTO 07\n",
      "--> Dados Abertos CNPJ ESTABELECIMENTO 08\n",
      "--> Dados Abertos CNPJ ESTABELECIMENTO 09\n",
      "--> Dados Abertos CNPJ ESTABELECIMENTO 10\n",
      "--> Dados Abertos CNPJ SÓCIO 01\n",
      "--> Dados Abertos CNPJ SÓCIO 02\n",
      "--> Dados Abertos CNPJ SÓCIO 03\n",
      "--> Dados Abertos CNPJ SÓCIO 04\n",
      "--> Dados Abertos CNPJ SÓCIO 05\n",
      "--> Dados Abertos CNPJ SÓCIO 06\n",
      "--> Dados Abertos CNPJ SÓCIO 07\n",
      "--> Dados Abertos CNPJ SÓCIO 08\n",
      "--> Dados Abertos CNPJ SÓCIO 09\n",
      "--> Dados Abertos CNPJ SÓCIO 10\n",
      "--> Informações sobre o Simples Nacional/MEI\n",
      "--> Tabela de atributo CNAE\n",
      "--> Tabela de motivo da situação cadastral\n",
      "--> Tabela de atributo Município\n",
      "--> Tabela de atributo Natureza Jurídica\n",
      "--> Tabela de atributo País\n",
      "--> Tabela de atributo qualificação dos sócios\n"
     ]
    }
   ],
   "source": [
    "for item in lista_de_links:\n",
    "    print(\"-->\", item.text)"
   ]
  },
  {
   "cell_type": "code",
   "execution_count": 9,
   "metadata": {},
   "outputs": [
    {
     "name": "stdout",
     "output_type": "stream",
     "text": [
      "http://200.152.38.155/CNPJ/K3241.K03200Y0.D11113.EMPRECSV.zip\n",
      "http://200.152.38.155/CNPJ/K3241.K03200Y1.D11113.EMPRECSV.zip\n",
      "http://200.152.38.155/CNPJ/K3241.K03200Y2.D11113.EMPRECSV.zip\n",
      "http://200.152.38.155/CNPJ/K3241.K03200Y3.D11113.EMPRECSV.zip\n",
      "http://200.152.38.155/CNPJ/K3241.K03200Y4.D11113.EMPRECSV.zip\n",
      "http://200.152.38.155/CNPJ/K3241.K03200Y5.D11113.EMPRECSV.zip\n",
      "http://200.152.38.155/CNPJ/K3241.K03200Y6.D11113.EMPRECSV.zip\n",
      "http://200.152.38.155/CNPJ/K3241.K03200Y7.D11113.EMPRECSV.zip\n",
      "http://200.152.38.155/CNPJ/K3241.K03200Y8.D11113.EMPRECSV.zip\n",
      "http://200.152.38.155/CNPJ/K3241.K03200Y9.D11113.EMPRECSV.zip\n",
      "http://200.152.38.155/CNPJ/K3241.K03200Y0.D11113.ESTABELE.zip\n",
      "http://200.152.38.155/CNPJ/K3241.K03200Y1.D11113.ESTABELE.zip\n",
      "http://200.152.38.155/CNPJ/K3241.K03200Y2.D11113.ESTABELE.zip\n",
      "http://200.152.38.155/CNPJ/K3241.K03200Y3.D11113.ESTABELE.zip\n",
      "http://200.152.38.155/CNPJ/K3241.K03200Y4.D11113.ESTABELE.zip\n",
      "http://200.152.38.155/CNPJ/K3241.K03200Y5.D11113.ESTABELE.zip\n",
      "http://200.152.38.155/CNPJ/K3241.K03200Y6.D11113.ESTABELE.zip\n",
      "http://200.152.38.155/CNPJ/K3241.K03200Y7.D11113.ESTABELE.zip\n",
      "http://200.152.38.155/CNPJ/K3241.K03200Y8.D11113.ESTABELE.zip\n",
      "http://200.152.38.155/CNPJ/K3241.K03200Y9.D11113.ESTABELE.zip\n",
      "http://http//200.152.38.155/CNPJ/K3241.K03200Y0.D11113.SOCIOCSV.zip\n",
      "http://http//200.152.38.155/CNPJ/K3241.K03200Y1.D11113.SOCIOCSV.zip\n",
      "http://200.152.38.155/CNPJ/K3241.K03200Y2.D11113.SOCIOCSV.zip\n",
      "http://200.152.38.155/CNPJ/K3241.K03200Y3.D11113.SOCIOCSV.zip\n",
      "http://200.152.38.155/CNPJ/K3241.K03200Y4.D11113.SOCIOCSV.zip\n",
      "http://200.152.38.155/CNPJ/K3241.K03200Y5.D11113.SOCIOCSV.zip\n",
      "http://200.152.38.155/CNPJ/K3241.K03200Y6.D11113.SOCIOCSV.zip\n",
      "http://200.152.38.155/CNPJ/K3241.K03200Y7.D11113.SOCIOCSV.zip\n",
      "http://200.152.38.155/CNPJ/K3241.K03200Y8.D11113.SOCIOCSV.zip\n",
      "http://200.152.38.155/CNPJ/K3241.K03200Y9.D11113.SOCIOCSV.zip\n",
      "http://200.152.38.155/CNPJ/F.K03200$W.SIMPLES.CSV.D11113.zip\n",
      "http://200.152.38.155/CNPJ/F.K03200$Z.D11113.CNAECSV.zip\n",
      "http://200.152.38.155/CNPJ/F.K03200$Z.D11113.MOTICSV.zip\n",
      "http://200.152.38.155/CNPJ/F.K03200$Z.D11113.MUNICCSV.zip\n",
      "http://200.152.38.155/CNPJ/F.K03200$Z.D11113.NATJUCSV.zip\n",
      "http://200.152.38.155/CNPJ/F.K03200$Z.D11113.PAISCSV.zip\n",
      "http://200.152.38.155/CNPJ/F.K03200$Z.D11113.QUALSCSV.zip\n"
     ]
    }
   ],
   "source": [
    "lista = []\n",
    "for link in lista_de_links:\n",
    "    lista.append(link.get(\"href\"))\n",
    "    print(link.get(\"href\"))"
   ]
  },
  {
   "cell_type": "code",
   "execution_count": 10,
   "metadata": {},
   "outputs": [
    {
     "data": {
      "text/plain": [
       "['http://http//200.152.38.155/CNPJ/K3241.K03200Y0.D11113.SOCIOCSV.zip',\n",
       " 'http://http//200.152.38.155/CNPJ/K3241.K03200Y1.D11113.SOCIOCSV.zip']"
      ]
     },
     "execution_count": 10,
     "metadata": {},
     "output_type": "execute_result"
    }
   ],
   "source": [
    "lista[20:22]"
   ]
  },
  {
   "cell_type": "code",
   "execution_count": 11,
   "metadata": {},
   "outputs": [],
   "source": [
    "lista[20] = 'http://200.152.38.155/CNPJ/K3241.K03200Y0.D11113.SOCIOCSV.zip'"
   ]
  },
  {
   "cell_type": "code",
   "execution_count": 12,
   "metadata": {},
   "outputs": [],
   "source": [
    "lista[21] = 'http://200.152.38.155/CNPJ/K3241.K03200Y1.D11113.SOCIOCSV.zip'"
   ]
  },
  {
   "cell_type": "code",
   "execution_count": 13,
   "metadata": {},
   "outputs": [
    {
     "data": {
      "text/plain": [
       "['http://200.152.38.155/CNPJ/K3241.K03200Y0.D11113.EMPRECSV.zip',\n",
       " 'http://200.152.38.155/CNPJ/K3241.K03200Y1.D11113.EMPRECSV.zip',\n",
       " 'http://200.152.38.155/CNPJ/K3241.K03200Y2.D11113.EMPRECSV.zip',\n",
       " 'http://200.152.38.155/CNPJ/K3241.K03200Y3.D11113.EMPRECSV.zip',\n",
       " 'http://200.152.38.155/CNPJ/K3241.K03200Y4.D11113.EMPRECSV.zip',\n",
       " 'http://200.152.38.155/CNPJ/K3241.K03200Y5.D11113.EMPRECSV.zip',\n",
       " 'http://200.152.38.155/CNPJ/K3241.K03200Y6.D11113.EMPRECSV.zip',\n",
       " 'http://200.152.38.155/CNPJ/K3241.K03200Y7.D11113.EMPRECSV.zip',\n",
       " 'http://200.152.38.155/CNPJ/K3241.K03200Y8.D11113.EMPRECSV.zip',\n",
       " 'http://200.152.38.155/CNPJ/K3241.K03200Y9.D11113.EMPRECSV.zip',\n",
       " 'http://200.152.38.155/CNPJ/K3241.K03200Y0.D11113.ESTABELE.zip',\n",
       " 'http://200.152.38.155/CNPJ/K3241.K03200Y1.D11113.ESTABELE.zip',\n",
       " 'http://200.152.38.155/CNPJ/K3241.K03200Y2.D11113.ESTABELE.zip',\n",
       " 'http://200.152.38.155/CNPJ/K3241.K03200Y3.D11113.ESTABELE.zip',\n",
       " 'http://200.152.38.155/CNPJ/K3241.K03200Y4.D11113.ESTABELE.zip',\n",
       " 'http://200.152.38.155/CNPJ/K3241.K03200Y5.D11113.ESTABELE.zip',\n",
       " 'http://200.152.38.155/CNPJ/K3241.K03200Y6.D11113.ESTABELE.zip',\n",
       " 'http://200.152.38.155/CNPJ/K3241.K03200Y7.D11113.ESTABELE.zip',\n",
       " 'http://200.152.38.155/CNPJ/K3241.K03200Y8.D11113.ESTABELE.zip',\n",
       " 'http://200.152.38.155/CNPJ/K3241.K03200Y9.D11113.ESTABELE.zip',\n",
       " 'http://200.152.38.155/CNPJ/K3241.K03200Y0.D11113.SOCIOCSV.zip',\n",
       " 'http://200.152.38.155/CNPJ/K3241.K03200Y1.D11113.SOCIOCSV.zip',\n",
       " 'http://200.152.38.155/CNPJ/K3241.K03200Y2.D11113.SOCIOCSV.zip',\n",
       " 'http://200.152.38.155/CNPJ/K3241.K03200Y3.D11113.SOCIOCSV.zip',\n",
       " 'http://200.152.38.155/CNPJ/K3241.K03200Y4.D11113.SOCIOCSV.zip',\n",
       " 'http://200.152.38.155/CNPJ/K3241.K03200Y5.D11113.SOCIOCSV.zip',\n",
       " 'http://200.152.38.155/CNPJ/K3241.K03200Y6.D11113.SOCIOCSV.zip',\n",
       " 'http://200.152.38.155/CNPJ/K3241.K03200Y7.D11113.SOCIOCSV.zip',\n",
       " 'http://200.152.38.155/CNPJ/K3241.K03200Y8.D11113.SOCIOCSV.zip',\n",
       " 'http://200.152.38.155/CNPJ/K3241.K03200Y9.D11113.SOCIOCSV.zip',\n",
       " 'http://200.152.38.155/CNPJ/F.K03200$W.SIMPLES.CSV.D11113.zip',\n",
       " 'http://200.152.38.155/CNPJ/F.K03200$Z.D11113.CNAECSV.zip',\n",
       " 'http://200.152.38.155/CNPJ/F.K03200$Z.D11113.MOTICSV.zip',\n",
       " 'http://200.152.38.155/CNPJ/F.K03200$Z.D11113.MUNICCSV.zip',\n",
       " 'http://200.152.38.155/CNPJ/F.K03200$Z.D11113.NATJUCSV.zip',\n",
       " 'http://200.152.38.155/CNPJ/F.K03200$Z.D11113.PAISCSV.zip',\n",
       " 'http://200.152.38.155/CNPJ/F.K03200$Z.D11113.QUALSCSV.zip']"
      ]
     },
     "execution_count": 13,
     "metadata": {},
     "output_type": "execute_result"
    }
   ],
   "source": [
    "lista"
   ]
  },
  {
   "cell_type": "code",
   "execution_count": 14,
   "metadata": {},
   "outputs": [],
   "source": [
    "total = len(lista)"
   ]
  },
  {
   "cell_type": "code",
   "execution_count": 15,
   "metadata": {},
   "outputs": [
    {
     "data": {
      "text/plain": [
       "37"
      ]
     },
     "execution_count": 15,
     "metadata": {},
     "output_type": "execute_result"
    }
   ],
   "source": [
    "total"
   ]
  },
  {
   "cell_type": "code",
   "execution_count": 16,
   "metadata": {},
   "outputs": [],
   "source": [
    "def download_url(link, chunk_size=1024):\n",
    "    path=r'D:\\Arquivos CNPJ'\n",
    "    file = link.split('/')[-1]\n",
    "    save_path = path + '\\\\' + file\n",
    "    r = requests.get(link, stream=True)\n",
    "    \n",
    "    with open(save_path, 'wb') as fd:\n",
    "        for chunk in r.iter_content(chunk_size=chunk_size):\n",
    "            fd.write(chunk)\n",
    "            \n",
    "    return link"
   ]
  },
  {
   "cell_type": "code",
   "execution_count": 17,
   "metadata": {},
   "outputs": [
    {
     "name": "stdout",
     "output_type": "stream",
     "text": [
      "Iniciando download de 37 arquivos:\n",
      "Faltam 36 arquivos. Arquivo baixado do link: http://200.152.38.155/CNPJ/K3241.K03200Y1.D11113.EMPRECSV.zip\n",
      "Faltam 35 arquivos. Arquivo baixado do link: http://200.152.38.155/CNPJ/K3241.K03200Y2.D11113.EMPRECSV.zip\n",
      "Faltam 34 arquivos. Arquivo baixado do link: http://200.152.38.155/CNPJ/K3241.K03200Y4.D11113.EMPRECSV.zip\n",
      "Faltam 33 arquivos. Arquivo baixado do link: http://200.152.38.155/CNPJ/K3241.K03200Y3.D11113.EMPRECSV.zip\n",
      "Faltam 32 arquivos. Arquivo baixado do link: http://200.152.38.155/CNPJ/K3241.K03200Y6.D11113.EMPRECSV.zip\n",
      "Faltam 31 arquivos. Arquivo baixado do link: http://200.152.38.155/CNPJ/K3241.K03200Y7.D11113.EMPRECSV.zip\n",
      "Faltam 30 arquivos. Arquivo baixado do link: http://200.152.38.155/CNPJ/K3241.K03200Y5.D11113.EMPRECSV.zip\n",
      "Faltam 29 arquivos. Arquivo baixado do link: http://200.152.38.155/CNPJ/K3241.K03200Y8.D11113.EMPRECSV.zip\n",
      "Faltam 28 arquivos. Arquivo baixado do link: http://200.152.38.155/CNPJ/K3241.K03200Y0.D11113.EMPRECSV.zip\n",
      "Faltam 27 arquivos. Arquivo baixado do link: http://200.152.38.155/CNPJ/K3241.K03200Y9.D11113.EMPRECSV.zip\n",
      "Faltam 26 arquivos. Arquivo baixado do link: http://200.152.38.155/CNPJ/K3241.K03200Y1.D11113.SOCIOCSV.zip\n",
      "Faltam 25 arquivos. Arquivo baixado do link: http://200.152.38.155/CNPJ/K3241.K03200Y0.D11113.SOCIOCSV.zip\n",
      "Faltam 24 arquivos. Arquivo baixado do link: http://200.152.38.155/CNPJ/K3241.K03200Y2.D11113.SOCIOCSV.zip\n",
      "Faltam 23 arquivos. Arquivo baixado do link: http://200.152.38.155/CNPJ/K3241.K03200Y3.D11113.SOCIOCSV.zip\n",
      "Faltam 22 arquivos. Arquivo baixado do link: http://200.152.38.155/CNPJ/K3241.K03200Y1.D11113.ESTABELE.zip\n",
      "Faltam 21 arquivos. Arquivo baixado do link: http://200.152.38.155/CNPJ/K3241.K03200Y5.D11113.SOCIOCSV.zip\n",
      "Faltam 20 arquivos. Arquivo baixado do link: http://200.152.38.155/CNPJ/K3241.K03200Y6.D11113.SOCIOCSV.zip\n",
      "Faltam 19 arquivos. Arquivo baixado do link: http://200.152.38.155/CNPJ/K3241.K03200Y4.D11113.SOCIOCSV.zip\n",
      "Faltam 18 arquivos. Arquivo baixado do link: http://200.152.38.155/CNPJ/K3241.K03200Y7.D11113.SOCIOCSV.zip\n",
      "Faltam 17 arquivos. Arquivo baixado do link: http://200.152.38.155/CNPJ/K3241.K03200Y2.D11113.ESTABELE.zip\n",
      "Faltam 16 arquivos. Arquivo baixado do link: http://200.152.38.155/CNPJ/F.K03200$Z.D11113.CNAECSV.zip\n",
      "Faltam 15 arquivos. Arquivo baixado do link: http://200.152.38.155/CNPJ/K3241.K03200Y3.D11113.ESTABELE.zip\n",
      "Faltam 14 arquivos. Arquivo baixado do link: http://200.152.38.155/CNPJ/F.K03200$Z.D11113.MUNICCSV.zip\n",
      "Faltam 13 arquivos. Arquivo baixado do link: http://200.152.38.155/CNPJ/F.K03200$Z.D11113.NATJUCSV.zip\n",
      "Faltam 12 arquivos. Arquivo baixado do link: http://200.152.38.155/CNPJ/F.K03200$Z.D11113.PAISCSV.zip\n",
      "Faltam 11 arquivos. Arquivo baixado do link: http://200.152.38.155/CNPJ/F.K03200$Z.D11113.MOTICSV.zip\n",
      "Faltam 10 arquivos. Arquivo baixado do link: http://200.152.38.155/CNPJ/F.K03200$Z.D11113.QUALSCSV.zip\n",
      "Faltam 9 arquivos. Arquivo baixado do link: http://200.152.38.155/CNPJ/K3241.K03200Y5.D11113.ESTABELE.zip\n",
      "Faltam 8 arquivos. Arquivo baixado do link: http://200.152.38.155/CNPJ/K3241.K03200Y7.D11113.ESTABELE.zip\n",
      "Faltam 7 arquivos. Arquivo baixado do link: http://200.152.38.155/CNPJ/K3241.K03200Y8.D11113.ESTABELE.zip\n",
      "Faltam 6 arquivos. Arquivo baixado do link: http://200.152.38.155/CNPJ/K3241.K03200Y8.D11113.SOCIOCSV.zip\n",
      "Faltam 5 arquivos. Arquivo baixado do link: http://200.152.38.155/CNPJ/K3241.K03200Y9.D11113.SOCIOCSV.zip\n",
      "Faltam 4 arquivos. Arquivo baixado do link: http://200.152.38.155/CNPJ/F.K03200$W.SIMPLES.CSV.D11113.zip\n",
      "Faltam 3 arquivos. Arquivo baixado do link: http://200.152.38.155/CNPJ/K3241.K03200Y4.D11113.ESTABELE.zip\n",
      "Faltam 2 arquivos. Arquivo baixado do link: http://200.152.38.155/CNPJ/K3241.K03200Y9.D11113.ESTABELE.zip\n",
      "Faltam 1 arquivos. Arquivo baixado do link: http://200.152.38.155/CNPJ/K3241.K03200Y6.D11113.ESTABELE.zip\n",
      "Faltam 0 arquivos. Arquivo baixado do link: http://200.152.38.155/CNPJ/K3241.K03200Y0.D11113.ESTABELE.zip\n",
      "Threaded time: 3548.974764585495\n"
     ]
    }
   ],
   "source": [
    "print('Iniciando download de {} arquivos:'.format(total))\n",
    "threaded_start = time.time()\n",
    "with concurrent.futures.ThreadPoolExecutor() as executor:\n",
    "    futures = []\n",
    "    for url in lista:\n",
    "        futures.append(executor.submit(download_url, link=url))\n",
    "    for future in concurrent.futures.as_completed(futures):\n",
    "        total = total - 1\n",
    "        print('Faltam {} arquivos. Arquivo baixado do link: {}'.format(total, future.result()))        \n",
    "print(\"Threaded time:\", time.time() - threaded_start)"
   ]
  },
  {
   "cell_type": "code",
   "execution_count": null,
   "metadata": {},
   "outputs": [],
   "source": []
  },
  {
   "cell_type": "code",
   "execution_count": null,
   "metadata": {},
   "outputs": [],
   "source": [
    "17:07"
   ]
  }
 ],
 "metadata": {
  "celltoolbar": "Raw Cell Format",
  "kernelspec": {
   "display_name": "Python 3 (ipykernel)",
   "language": "python",
   "name": "python3"
  },
  "language_info": {
   "codemirror_mode": {
    "name": "ipython",
    "version": 3
   },
   "file_extension": ".py",
   "mimetype": "text/x-python",
   "name": "python",
   "nbconvert_exporter": "python",
   "pygments_lexer": "ipython3",
   "version": "3.9.7"
  }
 },
 "nbformat": 4,
 "nbformat_minor": 4
}
